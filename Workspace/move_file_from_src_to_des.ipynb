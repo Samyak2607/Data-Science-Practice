{
 "cells": [
  {
   "cell_type": "markdown",
   "metadata": {},
   "source": []
  },
  {
   "cell_type": "code",
   "execution_count": 79,
   "metadata": {},
   "outputs": [],
   "source": [
    "import os\n",
    "import glob\n",
    "import time\n",
    "import datetime\n",
    "from datetime import date\n",
    "import shutil"
   ]
  },
  {
   "cell_type": "code",
   "execution_count": 80,
   "metadata": {},
   "outputs": [
    {
     "data": {
      "text/plain": [
       "['complete_data_new_format.csv', 'covid_19_clean_complete.csv', 'Weather.csv']"
      ]
     },
     "execution_count": 80,
     "metadata": {},
     "output_type": "execute_result"
    }
   ],
   "source": [
    "ext = 'csv'\n",
    "os.chdir('../DataSets')\n",
    "result = glob.glob('*.{}'.format(ext))\n",
    "result"
   ]
  },
  {
   "cell_type": "code",
   "execution_count": 81,
   "metadata": {},
   "outputs": [],
   "source": [
    "for file in result:\n",
    "    if date.fromtimestamp(os.stat(file).st_mtime).isoformat()=='2020-05-04':\n",
    "        print(file)\n",
    "        print(os.listdir('../DataSets/Covid_canada_data'))\n",
    "        des = os.path.join('../DataSets/Covid_canada_data', os.path.basename(file))\n",
    "        shutil.move(file, des)\n",
    "#     print(time.ctime(os.path.getmtime(file)) ==date.fromtimestamp(time.time()))"
   ]
  },
  {
   "cell_type": "code",
   "execution_count": 77,
   "metadata": {},
   "outputs": [],
   "source": [
    "# # date.fromtimestamp(datetime.datetime(2020,5,4))\n",
    "# os.chdir('../DataSets/Covid_canada_data')\n",
    "# # int(round(datetime.datetime(2020,5,4).timestamp() * 1000))"
   ]
  },
  {
   "cell_type": "code",
   "execution_count": 78,
   "metadata": {},
   "outputs": [],
   "source": [
    "# datetime.timedelta(minutes=30)"
   ]
  },
  {
   "cell_type": "code",
   "execution_count": null,
   "metadata": {},
   "outputs": [],
   "source": []
  }
 ],
 "metadata": {
  "kernelspec": {
   "display_name": "Python 3",
   "language": "python",
   "name": "python3"
  },
  "language_info": {
   "codemirror_mode": {
    "name": "ipython",
    "version": 3
   },
   "file_extension": ".py",
   "mimetype": "text/x-python",
   "name": "python",
   "nbconvert_exporter": "python",
   "pygments_lexer": "ipython3",
   "version": "3.7.3"
  }
 },
 "nbformat": 4,
 "nbformat_minor": 2
}
